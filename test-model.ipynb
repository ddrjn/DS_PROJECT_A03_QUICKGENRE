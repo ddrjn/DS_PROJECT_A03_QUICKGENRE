{
 "cells": [
  {
   "cell_type": "code",
   "execution_count": 7,
   "metadata": {},
   "outputs": [
    {
     "name": "stderr",
     "output_type": "stream",
     "text": [
      "C:\\Users\\rizhi\\AppData\\Local\\Temp\\ipykernel_27184\\2406257748.py:8: DtypeWarning: Columns (10) have mixed types. Specify dtype option on import or set low_memory=False.\n",
      "  df = pd.read_csv(\"movies_metadata.csv\")\n"
     ]
    }
   ],
   "source": [
    "import pandas as pd\n",
    "from sklearn.model_selection import train_test_split\n",
    "from transformers import AutoTokenizer, AutoModel\n",
    "import torch\n",
    "import torch.nn as nn\n",
    "import json\n",
    "from sklearn.preprocessing import MultiLabelBinarizer\n",
    "df = pd.read_csv(\"movies_metadata.csv\")\n",
    "genresArray = []\n",
    "for genre in df['genres']:\n",
    "    jsonString = str(genre).replace(\"'\", '\"')\n",
    "    genreObj = json.loads(jsonString)\n",
    "    genresArray.append([])\n",
    "    for g in genreObj:\n",
    "        genresArray[-1].append(g['name'])\n",
    "mlb = MultiLabelBinarizer()\n",
    "y = mlb.fit_transform(genresArray)\n",
    "\n",
    "\n",
    "tokenizer = AutoTokenizer.from_pretrained(\"bert-base-uncased\")\n",
    "model = AutoModel.from_pretrained(\"bert-base-uncased\")\n",
    "if torch.cuda.is_available():\n",
    "    model.cuda()\n",
    "\n",
    "genres = ['Mardock Scramble Production Committee', 'Sentai Filmworks', 'Family', 'Drama', 'Thriller', 'Documentary', 'Carousel Productions', 'History', 'Telescene Film Group Productions', 'Western', 'Romance', 'Pulser Productions', 'Vision View Entertainment', 'Foreign', 'Odyssey Media', 'Science Fiction', 'Horror', 'Fantasy', 'GoHands', 'Comedy', 'Action', 'The Cartel', 'BROSTA TV', 'Rogue State', 'Music', 'Crime', 'Adventure', 'TV Movie', 'Animation', 'Mystery', 'War', 'Aniplex']\n",
    "\n",
    "def title_to_embedding(title):\n",
    "    inputs = tokenizer(title, return_tensors=\"pt\")\n",
    "    if torch.cuda.is_available():\n",
    "        inputs.to('cuda')\n",
    "    outputs = model(**inputs)\n",
    "    return outputs.last_hidden_state.mean(dim=1).cpu().detach().numpy()\n",
    "\n",
    "class GenrePredictionModel(nn.Module):\n",
    "    def __init__(self, input_size, num_genres):\n",
    "        super(GenrePredictionModel, self).__init__()\n",
    "        self.fc1 = nn.Linear(input_size, 768)\n",
    "        self.relu = nn.ReLU()\n",
    "        self.fc2 = nn.Linear(768, 128)\n",
    "        self.relu2 = nn.ReLU()\n",
    "        self.fc3 = nn.Linear(128, num_genres)\n",
    "    \n",
    "    def forward(self, x):\n",
    "        x = self.fc1(x)\n",
    "        x = self.relu(x)\n",
    "        x = self.fc2(x)\n",
    "        x = self.relu2(x)\n",
    "        x = self.fc3(x)\n",
    "        #x = self.softmax(x)\n",
    "        return x\n"
   ]
  },
  {
   "cell_type": "code",
   "execution_count": 8,
   "metadata": {},
   "outputs": [
    {
     "data": {
      "text/plain": [
       "<All keys matched successfully>"
      ]
     },
     "execution_count": 8,
     "metadata": {},
     "output_type": "execute_result"
    }
   ],
   "source": [
    "cmodel = GenrePredictionModel(768, len(genres))\n",
    "cmodel.load_state_dict(torch.load(\"model.pt\"))"
   ]
  },
  {
   "cell_type": "code",
   "execution_count": 26,
   "metadata": {},
   "outputs": [
    {
     "name": "stdout",
     "output_type": "stream",
     "text": [
      "Action\n",
      "Adventure\n",
      "Science Fiction\n"
     ]
    }
   ],
   "source": [
    "\n",
    "title = \"star wars\"\n",
    "embeddings = title_to_embedding(title)\n",
    "inputs = torch.tensor(embeddings)\n",
    "outputs = cmodel(inputs)\n",
    "predicted = outputs > 0\n",
    "score = 0\n",
    "for i in range(len(predicted[0])):\n",
    "    if predicted[0][i]:\n",
    "        print(mlb.classes_[i])\n"
   ]
  }
 ],
 "metadata": {
  "kernelspec": {
   "display_name": "Python 3",
   "language": "python",
   "name": "python3"
  },
  "language_info": {
   "codemirror_mode": {
    "name": "ipython",
    "version": 3
   },
   "file_extension": ".py",
   "mimetype": "text/x-python",
   "name": "python",
   "nbconvert_exporter": "python",
   "pygments_lexer": "ipython3",
   "version": "3.11.5"
  }
 },
 "nbformat": 4,
 "nbformat_minor": 2
}
